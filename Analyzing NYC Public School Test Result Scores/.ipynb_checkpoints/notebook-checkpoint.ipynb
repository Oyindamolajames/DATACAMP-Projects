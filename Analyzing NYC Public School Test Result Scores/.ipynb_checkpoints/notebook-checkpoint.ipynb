{
 "cells": [
  {
   "cell_type": "markdown",
   "metadata": {
    "dc": {
     "key": "4"
    },
    "deletable": false,
    "editable": false,
    "run_control": {
     "frozen": true
    },
    "tags": [
     "context"
    ]
   },
   "source": [
    "## 1. Inspecting the data\n",
    "<p><img src=\"https://assets.datacamp.com/production/project_1416/img/schoolbus.jpg\" alt=\"New York City schoolbus\" height=\"300px\" width=\"300px\"></p>\n",
    "<p>Photo by <a href=\"https://unsplash.com/@jannis_lucas\">Jannis Lucas</a> on <a href=\"https://unsplash.com\">Unsplash</a>.\n",
    "<br></p>\n",
    "<p>Every year, American high school students take SATs, which are standardized tests intended to measure literacy, numeracy, and writing skills. There are three sections - reading, math, and writing, each with a maximum score of 800 points. These tests are extremely important for students and colleges, as they play a pivotal role in the admissions process.</p>\n",
    "<p>Analyzing the performance of schools is important for a variety of stakeholders, including policy and education professionals, researchers, government, and even parents considering which school their children should attend. </p>\n",
    "<p>In this notebook, we will take a look at data on SATs across public schools in New York City. Our database contains a single table:</p>\n",
    "<h1 id=\"schools\"><code>schools</code></h1>\n",
    "<table>\n",
    "<thead>\n",
    "<tr>\n",
    "<th>column</th>\n",
    "<th>type</th>\n",
    "<th>description</th>\n",
    "</tr>\n",
    "</thead>\n",
    "<tbody>\n",
    "<tr>\n",
    "<td><code>school_name</code></td>\n",
    "<td><code>varchar</code></td>\n",
    "<td>Name of school</td>\n",
    "</tr>\n",
    "<tr>\n",
    "<td><code>borough</code></td>\n",
    "<td><code>varchar</code></td>\n",
    "<td>Borough that the school is located in</td>\n",
    "</tr>\n",
    "<tr>\n",
    "<td><code>building_code</code></td>\n",
    "<td><code>varchar</code></td>\n",
    "<td>Code for the building</td>\n",
    "</tr>\n",
    "<tr>\n",
    "<td><code>average_math</code></td>\n",
    "<td><code>int</code></td>\n",
    "<td>Average math score for SATs</td>\n",
    "</tr>\n",
    "<tr>\n",
    "<td><code>average_reading</code></td>\n",
    "<td><code>int</code></td>\n",
    "<td>Average reading score for SATs</td>\n",
    "</tr>\n",
    "<tr>\n",
    "<td><code>average_writing</code></td>\n",
    "<td><code>int</code></td>\n",
    "<td>Average writing score for SATs</td>\n",
    "</tr>\n",
    "<tr>\n",
    "<td><code>percent_tested</code></td>\n",
    "<td><code>numeric</code></td>\n",
    "<td>Percentage of students completing SATs</td>\n",
    "</tr>\n",
    "</tbody>\n",
    "</table>\n",
    "<p>Let's familiarize ourselves with the data by taking a looking at the first few schools!</p>"
   ]
  },
  {
   "cell_type": "code",
   "execution_count": 2,
   "metadata": {},
   "outputs": [
    {
     "ename": "ValueError",
     "evalue": "Table 'schools' already exists.",
     "output_type": "error",
     "traceback": [
      "\u001b[0;31m---------------------------------------------------------------------------\u001b[0m",
      "\u001b[0;31mValueError\u001b[0m                                Traceback (most recent call last)",
      "Cell \u001b[0;32mIn[2], line 9\u001b[0m\n\u001b[1;32m      7\u001b[0m dt \u001b[38;5;241m=\u001b[39m pd\u001b[38;5;241m.\u001b[39mread_csv(\u001b[38;5;124m\"\u001b[39m\u001b[38;5;124mdatasets/schools_modified.csv\u001b[39m\u001b[38;5;124m\"\u001b[39m)\n\u001b[1;32m      8\u001b[0m cnn \u001b[38;5;241m=\u001b[39m sqlite3\u001b[38;5;241m.\u001b[39mconnect(\u001b[38;5;124m'\u001b[39m\u001b[38;5;124mcreatedb.db\u001b[39m\u001b[38;5;124m'\u001b[39m)\n\u001b[0;32m----> 9\u001b[0m \u001b[43mdt\u001b[49m\u001b[38;5;241;43m.\u001b[39;49m\u001b[43mto_sql\u001b[49m\u001b[43m(\u001b[49m\u001b[38;5;124;43m\"\u001b[39;49m\u001b[38;5;124;43mschools\u001b[39;49m\u001b[38;5;124;43m\"\u001b[39;49m\u001b[43m,\u001b[49m\u001b[43m \u001b[49m\u001b[43mcnn\u001b[49m\u001b[43m)\u001b[49m\n\u001b[1;32m     10\u001b[0m get_ipython()\u001b[38;5;241m.\u001b[39mrun_line_magic(\u001b[38;5;124m'\u001b[39m\u001b[38;5;124mload_ext\u001b[39m\u001b[38;5;124m'\u001b[39m, \u001b[38;5;124m'\u001b[39m\u001b[38;5;124msql\u001b[39m\u001b[38;5;124m'\u001b[39m)\n\u001b[1;32m     11\u001b[0m get_ipython()\u001b[38;5;241m.\u001b[39mrun_line_magic(\u001b[38;5;124m'\u001b[39m\u001b[38;5;124msql\u001b[39m\u001b[38;5;124m'\u001b[39m, \u001b[38;5;124m'\u001b[39m\u001b[38;5;124msqlite:///createdb.db\u001b[39m\u001b[38;5;124m'\u001b[39m)\n",
      "File \u001b[0;32m~/.local/lib/python3.10/site-packages/pandas/core/generic.py:2987\u001b[0m, in \u001b[0;36mNDFrame.to_sql\u001b[0;34m(self, name, con, schema, if_exists, index, index_label, chunksize, dtype, method)\u001b[0m\n\u001b[1;32m   2830\u001b[0m \u001b[38;5;250m\u001b[39m\u001b[38;5;124;03m\"\"\"\u001b[39;00m\n\u001b[1;32m   2831\u001b[0m \u001b[38;5;124;03mWrite records stored in a DataFrame to a SQL database.\u001b[39;00m\n\u001b[1;32m   2832\u001b[0m \n\u001b[0;32m   (...)\u001b[0m\n\u001b[1;32m   2983\u001b[0m \u001b[38;5;124;03m[(1,), (None,), (2,)]\u001b[39;00m\n\u001b[1;32m   2984\u001b[0m \u001b[38;5;124;03m\"\"\"\u001b[39;00m  \u001b[38;5;66;03m# noqa:E501\u001b[39;00m\n\u001b[1;32m   2985\u001b[0m \u001b[38;5;28;01mfrom\u001b[39;00m \u001b[38;5;21;01mpandas\u001b[39;00m\u001b[38;5;21;01m.\u001b[39;00m\u001b[38;5;21;01mio\u001b[39;00m \u001b[38;5;28;01mimport\u001b[39;00m sql\n\u001b[0;32m-> 2987\u001b[0m \u001b[38;5;28;01mreturn\u001b[39;00m \u001b[43msql\u001b[49m\u001b[38;5;241;43m.\u001b[39;49m\u001b[43mto_sql\u001b[49m\u001b[43m(\u001b[49m\n\u001b[1;32m   2988\u001b[0m \u001b[43m    \u001b[49m\u001b[38;5;28;43mself\u001b[39;49m\u001b[43m,\u001b[49m\n\u001b[1;32m   2989\u001b[0m \u001b[43m    \u001b[49m\u001b[43mname\u001b[49m\u001b[43m,\u001b[49m\n\u001b[1;32m   2990\u001b[0m \u001b[43m    \u001b[49m\u001b[43mcon\u001b[49m\u001b[43m,\u001b[49m\n\u001b[1;32m   2991\u001b[0m \u001b[43m    \u001b[49m\u001b[43mschema\u001b[49m\u001b[38;5;241;43m=\u001b[39;49m\u001b[43mschema\u001b[49m\u001b[43m,\u001b[49m\n\u001b[1;32m   2992\u001b[0m \u001b[43m    \u001b[49m\u001b[43mif_exists\u001b[49m\u001b[38;5;241;43m=\u001b[39;49m\u001b[43mif_exists\u001b[49m\u001b[43m,\u001b[49m\n\u001b[1;32m   2993\u001b[0m \u001b[43m    \u001b[49m\u001b[43mindex\u001b[49m\u001b[38;5;241;43m=\u001b[39;49m\u001b[43mindex\u001b[49m\u001b[43m,\u001b[49m\n\u001b[1;32m   2994\u001b[0m \u001b[43m    \u001b[49m\u001b[43mindex_label\u001b[49m\u001b[38;5;241;43m=\u001b[39;49m\u001b[43mindex_label\u001b[49m\u001b[43m,\u001b[49m\n\u001b[1;32m   2995\u001b[0m \u001b[43m    \u001b[49m\u001b[43mchunksize\u001b[49m\u001b[38;5;241;43m=\u001b[39;49m\u001b[43mchunksize\u001b[49m\u001b[43m,\u001b[49m\n\u001b[1;32m   2996\u001b[0m \u001b[43m    \u001b[49m\u001b[43mdtype\u001b[49m\u001b[38;5;241;43m=\u001b[39;49m\u001b[43mdtype\u001b[49m\u001b[43m,\u001b[49m\n\u001b[1;32m   2997\u001b[0m \u001b[43m    \u001b[49m\u001b[43mmethod\u001b[49m\u001b[38;5;241;43m=\u001b[39;49m\u001b[43mmethod\u001b[49m\u001b[43m,\u001b[49m\n\u001b[1;32m   2998\u001b[0m \u001b[43m\u001b[49m\u001b[43m)\u001b[49m\n",
      "File \u001b[0;32m~/.local/lib/python3.10/site-packages/pandas/io/sql.py:695\u001b[0m, in \u001b[0;36mto_sql\u001b[0;34m(frame, name, con, schema, if_exists, index, index_label, chunksize, dtype, method, engine, **engine_kwargs)\u001b[0m\n\u001b[1;32m    690\u001b[0m \u001b[38;5;28;01melif\u001b[39;00m \u001b[38;5;129;01mnot\u001b[39;00m \u001b[38;5;28misinstance\u001b[39m(frame, DataFrame):\n\u001b[1;32m    691\u001b[0m     \u001b[38;5;28;01mraise\u001b[39;00m \u001b[38;5;167;01mNotImplementedError\u001b[39;00m(\n\u001b[1;32m    692\u001b[0m         \u001b[38;5;124m\"\u001b[39m\u001b[38;5;124m'\u001b[39m\u001b[38;5;124mframe\u001b[39m\u001b[38;5;124m'\u001b[39m\u001b[38;5;124m argument should be either a Series or a DataFrame\u001b[39m\u001b[38;5;124m\"\u001b[39m\n\u001b[1;32m    693\u001b[0m     )\n\u001b[0;32m--> 695\u001b[0m \u001b[38;5;28;01mreturn\u001b[39;00m \u001b[43mpandas_sql\u001b[49m\u001b[38;5;241;43m.\u001b[39;49m\u001b[43mto_sql\u001b[49m\u001b[43m(\u001b[49m\n\u001b[1;32m    696\u001b[0m \u001b[43m    \u001b[49m\u001b[43mframe\u001b[49m\u001b[43m,\u001b[49m\n\u001b[1;32m    697\u001b[0m \u001b[43m    \u001b[49m\u001b[43mname\u001b[49m\u001b[43m,\u001b[49m\n\u001b[1;32m    698\u001b[0m \u001b[43m    \u001b[49m\u001b[43mif_exists\u001b[49m\u001b[38;5;241;43m=\u001b[39;49m\u001b[43mif_exists\u001b[49m\u001b[43m,\u001b[49m\n\u001b[1;32m    699\u001b[0m \u001b[43m    \u001b[49m\u001b[43mindex\u001b[49m\u001b[38;5;241;43m=\u001b[39;49m\u001b[43mindex\u001b[49m\u001b[43m,\u001b[49m\n\u001b[1;32m    700\u001b[0m \u001b[43m    \u001b[49m\u001b[43mindex_label\u001b[49m\u001b[38;5;241;43m=\u001b[39;49m\u001b[43mindex_label\u001b[49m\u001b[43m,\u001b[49m\n\u001b[1;32m    701\u001b[0m \u001b[43m    \u001b[49m\u001b[43mschema\u001b[49m\u001b[38;5;241;43m=\u001b[39;49m\u001b[43mschema\u001b[49m\u001b[43m,\u001b[49m\n\u001b[1;32m    702\u001b[0m \u001b[43m    \u001b[49m\u001b[43mchunksize\u001b[49m\u001b[38;5;241;43m=\u001b[39;49m\u001b[43mchunksize\u001b[49m\u001b[43m,\u001b[49m\n\u001b[1;32m    703\u001b[0m \u001b[43m    \u001b[49m\u001b[43mdtype\u001b[49m\u001b[38;5;241;43m=\u001b[39;49m\u001b[43mdtype\u001b[49m\u001b[43m,\u001b[49m\n\u001b[1;32m    704\u001b[0m \u001b[43m    \u001b[49m\u001b[43mmethod\u001b[49m\u001b[38;5;241;43m=\u001b[39;49m\u001b[43mmethod\u001b[49m\u001b[43m,\u001b[49m\n\u001b[1;32m    705\u001b[0m \u001b[43m    \u001b[49m\u001b[43mengine\u001b[49m\u001b[38;5;241;43m=\u001b[39;49m\u001b[43mengine\u001b[49m\u001b[43m,\u001b[49m\n\u001b[1;32m    706\u001b[0m \u001b[43m    \u001b[49m\u001b[38;5;241;43m*\u001b[39;49m\u001b[38;5;241;43m*\u001b[39;49m\u001b[43mengine_kwargs\u001b[49m\u001b[43m,\u001b[49m\n\u001b[1;32m    707\u001b[0m \u001b[43m\u001b[49m\u001b[43m)\u001b[49m\n",
      "File \u001b[0;32m~/.local/lib/python3.10/site-packages/pandas/io/sql.py:2187\u001b[0m, in \u001b[0;36mSQLiteDatabase.to_sql\u001b[0;34m(self, frame, name, if_exists, index, index_label, schema, chunksize, dtype, method, **kwargs)\u001b[0m\n\u001b[1;32m   2176\u001b[0m             \u001b[38;5;28;01mraise\u001b[39;00m \u001b[38;5;167;01mValueError\u001b[39;00m(\u001b[38;5;124mf\u001b[39m\u001b[38;5;124m\"\u001b[39m\u001b[38;5;132;01m{\u001b[39;00mcol\u001b[38;5;132;01m}\u001b[39;00m\u001b[38;5;124m (\u001b[39m\u001b[38;5;132;01m{\u001b[39;00mmy_type\u001b[38;5;132;01m}\u001b[39;00m\u001b[38;5;124m) not a string\u001b[39m\u001b[38;5;124m\"\u001b[39m)\n\u001b[1;32m   2178\u001b[0m table \u001b[38;5;241m=\u001b[39m SQLiteTable(\n\u001b[1;32m   2179\u001b[0m     name,\n\u001b[1;32m   2180\u001b[0m     \u001b[38;5;28mself\u001b[39m,\n\u001b[0;32m   (...)\u001b[0m\n\u001b[1;32m   2185\u001b[0m     dtype\u001b[38;5;241m=\u001b[39mdtype,\n\u001b[1;32m   2186\u001b[0m )\n\u001b[0;32m-> 2187\u001b[0m \u001b[43mtable\u001b[49m\u001b[38;5;241;43m.\u001b[39;49m\u001b[43mcreate\u001b[49m\u001b[43m(\u001b[49m\u001b[43m)\u001b[49m\n\u001b[1;32m   2188\u001b[0m \u001b[38;5;28;01mreturn\u001b[39;00m table\u001b[38;5;241m.\u001b[39minsert(chunksize, method)\n",
      "File \u001b[0;32m~/.local/lib/python3.10/site-packages/pandas/io/sql.py:829\u001b[0m, in \u001b[0;36mSQLTable.create\u001b[0;34m(self)\u001b[0m\n\u001b[1;32m    827\u001b[0m \u001b[38;5;28;01mif\u001b[39;00m \u001b[38;5;28mself\u001b[39m\u001b[38;5;241m.\u001b[39mexists():\n\u001b[1;32m    828\u001b[0m     \u001b[38;5;28;01mif\u001b[39;00m \u001b[38;5;28mself\u001b[39m\u001b[38;5;241m.\u001b[39mif_exists \u001b[38;5;241m==\u001b[39m \u001b[38;5;124m\"\u001b[39m\u001b[38;5;124mfail\u001b[39m\u001b[38;5;124m\"\u001b[39m:\n\u001b[0;32m--> 829\u001b[0m         \u001b[38;5;28;01mraise\u001b[39;00m \u001b[38;5;167;01mValueError\u001b[39;00m(\u001b[38;5;124mf\u001b[39m\u001b[38;5;124m\"\u001b[39m\u001b[38;5;124mTable \u001b[39m\u001b[38;5;124m'\u001b[39m\u001b[38;5;132;01m{\u001b[39;00m\u001b[38;5;28mself\u001b[39m\u001b[38;5;241m.\u001b[39mname\u001b[38;5;132;01m}\u001b[39;00m\u001b[38;5;124m'\u001b[39m\u001b[38;5;124m already exists.\u001b[39m\u001b[38;5;124m\"\u001b[39m)\n\u001b[1;32m    830\u001b[0m     \u001b[38;5;28;01melif\u001b[39;00m \u001b[38;5;28mself\u001b[39m\u001b[38;5;241m.\u001b[39mif_exists \u001b[38;5;241m==\u001b[39m \u001b[38;5;124m\"\u001b[39m\u001b[38;5;124mreplace\u001b[39m\u001b[38;5;124m\"\u001b[39m:\n\u001b[1;32m    831\u001b[0m         \u001b[38;5;28mself\u001b[39m\u001b[38;5;241m.\u001b[39mpd_sql\u001b[38;5;241m.\u001b[39mdrop_table(\u001b[38;5;28mself\u001b[39m\u001b[38;5;241m.\u001b[39mname, \u001b[38;5;28mself\u001b[39m\u001b[38;5;241m.\u001b[39mschema)\n",
      "\u001b[0;31mValueError\u001b[0m: Table 'schools' already exists."
     ]
    }
   ],
   "source": [
    "# !pip install pandas\n",
    "# !pip install ipython-sql\n",
    "\n",
    "import pandas as pd\n",
    "import sqlite3\n",
    "\n",
    "dt = pd.read_csv(\"datasets/schools_modified.csv\")\n",
    "cnn = sqlite3.connect('createdb.db')\n",
    "dt.to_sql(\"schools\", cnn)\n",
    "%load_ext sql\n",
    "%sql sqlite:///createdb.db\n",
    "\n"
   ]
  },
  {
   "cell_type": "code",
   "execution_count": 1,
   "metadata": {
    "dc": {
     "key": "4"
    },
    "tags": [
     "sample_code"
    ]
   },
   "outputs": [
    {
     "name": "stderr",
     "output_type": "stream",
     "text": [
      "UsageError: Cell magic `%%sql` not found.\n"
     ]
    }
   ],
   "source": [
    "%%sql \n",
    "    \n",
    "-- Select all columns from the database\n",
    "SELECT *\n",
    "FROM schools\n",
    "-- Display only the first ten rows\n",
    "LIMIT 10;"
   ]
  },
  {
   "cell_type": "markdown",
   "metadata": {
    "dc": {
     "key": "11"
    },
    "deletable": false,
    "editable": false,
    "run_control": {
     "frozen": true
    },
    "tags": [
     "context"
    ]
   },
   "source": [
    "## 2. Finding missing values\n",
    "<p>It looks like the first school in our database had no data in the <code>percent_tested</code> column! </p>\n",
    "<p>Let's identify how many schools have missing data for this column, indicating schools that did not report the percentage of students tested. </p>\n",
    "<p>To understand whether this missing data problem is widespread in New York, we will also calculate the total number of schools in the database.</p>"
   ]
  },
  {
   "cell_type": "code",
   "execution_count": 27,
   "metadata": {
    "dc": {
     "key": "11"
    },
    "tags": [
     "sample_code"
    ]
   },
   "outputs": [
    {
     "name": "stdout",
     "output_type": "stream",
     "text": [
      " * sqlite:///createdb.db\n",
      "Done.\n"
     ]
    },
    {
     "data": {
      "text/html": [
       "<table>\n",
       "    <tr>\n",
       "        <th>percent_tested_missing</th>\n",
       "        <th>num_schools</th>\n",
       "    </tr>\n",
       "    <tr>\n",
       "        <td>20</td>\n",
       "        <td>375</td>\n",
       "    </tr>\n",
       "</table>"
      ],
      "text/plain": [
       "[(20, 375)]"
      ]
     },
     "execution_count": 27,
     "metadata": {},
     "output_type": "execute_result"
    }
   ],
   "source": [
    "%%sql\n",
    "\n",
    "-- Count rows with percent_tested missing and total number of schools\n",
    "SELECT \n",
    "    COUNT(school_name) - COUNT(percent_tested) AS percent_tested_missing,\n",
    "    COUNT(school_name) AS num_schools\n",
    "FROM schools\n",
    "\n",
    "    "
   ]
  },
  {
   "cell_type": "markdown",
   "metadata": {
    "dc": {
     "key": "18"
    },
    "deletable": false,
    "editable": false,
    "run_control": {
     "frozen": true
    },
    "tags": [
     "context"
    ]
   },
   "source": [
    "## 3. Schools by building code\n",
    "<p>There are 20 schools with missing data for <code>percent_tested</code>, which only makes up 5% of all rows in the database.</p>\n",
    "<p>Now let's turn our attention to how many schools there are. When we displayed the first ten rows of the database, several had the same value in the <code>building_code</code> column, suggesting there are multiple schools based in the same location. Let's find out how many unique school locations exist in our database. </p>"
   ]
  },
  {
   "cell_type": "code",
   "execution_count": 29,
   "metadata": {
    "dc": {
     "key": "18"
    },
    "tags": [
     "sample_code"
    ]
   },
   "outputs": [
    {
     "name": "stdout",
     "output_type": "stream",
     "text": [
      " * sqlite:///createdb.db\n",
      "Done.\n"
     ]
    },
    {
     "data": {
      "text/html": [
       "<table>\n",
       "    <tr>\n",
       "        <th>num_building_code</th>\n",
       "    </tr>\n",
       "    <tr>\n",
       "        <td>233</td>\n",
       "    </tr>\n",
       "</table>"
      ],
      "text/plain": [
       "[(233,)]"
      ]
     },
     "execution_count": 29,
     "metadata": {},
     "output_type": "execute_result"
    }
   ],
   "source": [
    "%%sql\n",
    "SELECT \n",
    "-- Count the number of unique building_code values\n",
    "    COUNT(DISTINCT(building_code)) AS num_building_code\n",
    "FROM schools    \n",
    "\n"
   ]
  },
  {
   "cell_type": "markdown",
   "metadata": {
    "dc": {
     "key": "25"
    },
    "deletable": false,
    "editable": false,
    "run_control": {
     "frozen": true
    },
    "tags": [
     "context"
    ]
   },
   "source": [
    "## 4. Best schools for math\n",
    "<p>Out of 375 schools, only 233 (62%) have a unique <code>building_code</code>! </p>\n",
    "<p>Now let's start our analysis of school performance. As each school reports individually, we will treat them this way rather than grouping them by <code>building_code</code>. </p>\n",
    "<p>First, let's find all schools with an average math score of at least 80% (out of 800). </p>"
   ]
  },
  {
   "cell_type": "code",
   "execution_count": 30,
   "metadata": {
    "dc": {
     "key": "25"
    },
    "tags": [
     "sample_code"
    ]
   },
   "outputs": [
    {
     "name": "stdout",
     "output_type": "stream",
     "text": [
      " * sqlite:///createdb.db\n",
      "Done.\n"
     ]
    },
    {
     "data": {
      "text/html": [
       "<table>\n",
       "    <tr>\n",
       "        <th>school_name</th>\n",
       "        <th>average_math</th>\n",
       "    </tr>\n",
       "    <tr>\n",
       "        <td>Stuyvesant High School</td>\n",
       "        <td>754</td>\n",
       "    </tr>\n",
       "    <tr>\n",
       "        <td>Bronx High School of Science</td>\n",
       "        <td>714</td>\n",
       "    </tr>\n",
       "    <tr>\n",
       "        <td>Staten Island Technical High School</td>\n",
       "        <td>711</td>\n",
       "    </tr>\n",
       "    <tr>\n",
       "        <td>Queens High School for the Sciences at York College</td>\n",
       "        <td>701</td>\n",
       "    </tr>\n",
       "    <tr>\n",
       "        <td>High School for Mathematics, Science, and Engineering at City College</td>\n",
       "        <td>683</td>\n",
       "    </tr>\n",
       "    <tr>\n",
       "        <td>Brooklyn Technical High School</td>\n",
       "        <td>682</td>\n",
       "    </tr>\n",
       "    <tr>\n",
       "        <td>Townsend Harris High School</td>\n",
       "        <td>680</td>\n",
       "    </tr>\n",
       "    <tr>\n",
       "        <td>High School of American Studies at Lehman College</td>\n",
       "        <td>669</td>\n",
       "    </tr>\n",
       "    <tr>\n",
       "        <td>New Explorations into Science, Technology and Math High School</td>\n",
       "        <td>657</td>\n",
       "    </tr>\n",
       "    <tr>\n",
       "        <td>Eleanor Roosevelt High School</td>\n",
       "        <td>641</td>\n",
       "    </tr>\n",
       "</table>"
      ],
      "text/plain": [
       "[('Stuyvesant High School', 754),\n",
       " ('Bronx High School of Science', 714),\n",
       " ('Staten Island Technical High School', 711),\n",
       " ('Queens High School for the Sciences at York College', 701),\n",
       " ('High School for Mathematics, Science, and Engineering at City College', 683),\n",
       " ('Brooklyn Technical High School', 682),\n",
       " ('Townsend Harris High School', 680),\n",
       " ('High School of American Studies at Lehman College', 669),\n",
       " ('New Explorations into Science, Technology and Math High School', 657),\n",
       " ('Eleanor Roosevelt High School', 641)]"
      ]
     },
     "execution_count": 30,
     "metadata": {},
     "output_type": "execute_result"
    }
   ],
   "source": [
    "%%sql\n",
    "\n",
    "-- Select school and average_math\n",
    "SELECT \n",
    "    school_name,\n",
    "    average_math\n",
    "FROM schools\n",
    "-- Filter for average_math 640 or higher\n",
    "WHERE average_math >= 640\n",
    "-- Display from largest to smallest average_math\n",
    "ORDER BY average_math DESC;"
   ]
  },
  {
   "cell_type": "markdown",
   "metadata": {
    "dc": {
     "key": "32"
    },
    "deletable": false,
    "editable": false,
    "run_control": {
     "frozen": true
    },
    "tags": [
     "context"
    ]
   },
   "source": [
    "## 5. Lowest reading score\n",
    "<p>Wow, there are only ten public schools in New York City with an average math score of at least 640!</p>\n",
    "<p>Now let's look at the other end of the spectrum and find the single lowest score for reading. We will only select the score, not the school, to avoid naming and shaming!</p>"
   ]
  },
  {
   "cell_type": "code",
   "execution_count": 33,
   "metadata": {
    "dc": {
     "key": "32"
    },
    "tags": [
     "sample_code"
    ]
   },
   "outputs": [
    {
     "name": "stdout",
     "output_type": "stream",
     "text": [
      " * sqlite:///createdb.db\n",
      "Done.\n"
     ]
    },
    {
     "data": {
      "text/html": [
       "<table>\n",
       "    <tr>\n",
       "        <th>school_name</th>\n",
       "        <th>average_reading</th>\n",
       "    </tr>\n",
       "    <tr>\n",
       "        <td>International High School at Prospect Heights</td>\n",
       "        <td>302</td>\n",
       "    </tr>\n",
       "</table>"
      ],
      "text/plain": [
       "[('International High School at Prospect Heights', 302)]"
      ]
     },
     "execution_count": 33,
     "metadata": {},
     "output_type": "execute_result"
    }
   ],
   "source": [
    "%%sql\n",
    "\n",
    "-- Find lowest average_reading\n",
    "SELECT \n",
    "    school_name,\n",
    "    average_reading\n",
    "FROM schools\n",
    "ORDER BY average_reading ASC\n",
    "LIMIT 1; \n",
    "\n"
   ]
  },
  {
   "cell_type": "markdown",
   "metadata": {
    "dc": {
     "key": "39"
    },
    "deletable": false,
    "editable": false,
    "run_control": {
     "frozen": true
    },
    "tags": [
     "context"
    ]
   },
   "source": [
    "## 6. Best writing school\n",
    "<p>The lowest average score for reading across schools in New York City is less than 40% of the total available points! </p>\n",
    "<p>Now let's find the school with the highest average writing score.</p>"
   ]
  },
  {
   "cell_type": "code",
   "execution_count": 35,
   "metadata": {
    "dc": {
     "key": "39"
    },
    "tags": [
     "sample_code"
    ]
   },
   "outputs": [
    {
     "name": "stdout",
     "output_type": "stream",
     "text": [
      " * sqlite:///createdb.db\n",
      "Done.\n"
     ]
    },
    {
     "data": {
      "text/html": [
       "<table>\n",
       "    <tr>\n",
       "        <th>school_name</th>\n",
       "        <th>max_writing</th>\n",
       "    </tr>\n",
       "    <tr>\n",
       "        <td>Stuyvesant High School</td>\n",
       "        <td>693</td>\n",
       "    </tr>\n",
       "</table>"
      ],
      "text/plain": [
       "[('Stuyvesant High School', 693)]"
      ]
     },
     "execution_count": 35,
     "metadata": {},
     "output_type": "execute_result"
    }
   ],
   "source": [
    "%%sql\n",
    "\n",
    "-- Find the top score for average_writing\n",
    "SELECT \n",
    "    school_name,\n",
    "    MAX(average_writing) AS max_writing\n",
    "FROM schools\n",
    "-- Group the results by school\n",
    "GROUP BY school_name\n",
    "\n",
    "-- Sort by max_writing in descending order\n",
    "ORDER BY max_writing DESC\n",
    "-- Reduce output to one school\n",
    "LIMIT 1;"
   ]
  },
  {
   "cell_type": "markdown",
   "metadata": {
    "dc": {
     "key": "46"
    },
    "deletable": false,
    "editable": false,
    "run_control": {
     "frozen": true
    },
    "tags": [
     "context"
    ]
   },
   "source": [
    "## 7. Top 10 schools\n",
    "<p>An average writing score of 693 is pretty impressive! </p>\n",
    "<p>This top writing score was at the same school that got the top math score, Stuyvesant High School. Stuyvesant is widely known as a perennial top school in New York. </p>\n",
    "<p>What other schools are also excellent across the board? Let's look at scores across reading, writing, and math to find out.</p>"
   ]
  },
  {
   "cell_type": "code",
   "execution_count": 36,
   "metadata": {
    "dc": {
     "key": "46"
    },
    "tags": [
     "sample_code"
    ]
   },
   "outputs": [
    {
     "name": "stdout",
     "output_type": "stream",
     "text": [
      " * sqlite:///createdb.db\n",
      "Done.\n"
     ]
    },
    {
     "data": {
      "text/html": [
       "<table>\n",
       "    <tr>\n",
       "        <th>school_name</th>\n",
       "        <th>average_sat</th>\n",
       "    </tr>\n",
       "    <tr>\n",
       "        <td>Stuyvesant High School</td>\n",
       "        <td>2144</td>\n",
       "    </tr>\n",
       "    <tr>\n",
       "        <td>Staten Island Technical High School</td>\n",
       "        <td>2041</td>\n",
       "    </tr>\n",
       "    <tr>\n",
       "        <td>Bronx High School of Science</td>\n",
       "        <td>2041</td>\n",
       "    </tr>\n",
       "    <tr>\n",
       "        <td>High School of American Studies at Lehman College</td>\n",
       "        <td>2013</td>\n",
       "    </tr>\n",
       "    <tr>\n",
       "        <td>Townsend Harris High School</td>\n",
       "        <td>1981</td>\n",
       "    </tr>\n",
       "    <tr>\n",
       "        <td>Queens High School for the Sciences at York College</td>\n",
       "        <td>1947</td>\n",
       "    </tr>\n",
       "    <tr>\n",
       "        <td>Bard High School Early College</td>\n",
       "        <td>1914</td>\n",
       "    </tr>\n",
       "    <tr>\n",
       "        <td>Brooklyn Technical High School</td>\n",
       "        <td>1896</td>\n",
       "    </tr>\n",
       "    <tr>\n",
       "        <td>High School for Mathematics, Science, and Engineering at City College</td>\n",
       "        <td>1889</td>\n",
       "    </tr>\n",
       "    <tr>\n",
       "        <td>Eleanor Roosevelt High School</td>\n",
       "        <td>1889</td>\n",
       "    </tr>\n",
       "</table>"
      ],
      "text/plain": [
       "[('Stuyvesant High School', 2144),\n",
       " ('Staten Island Technical High School', 2041),\n",
       " ('Bronx High School of Science', 2041),\n",
       " ('High School of American Studies at Lehman College', 2013),\n",
       " ('Townsend Harris High School', 1981),\n",
       " ('Queens High School for the Sciences at York College', 1947),\n",
       " ('Bard High School Early College', 1914),\n",
       " ('Brooklyn Technical High School', 1896),\n",
       " ('High School for Mathematics, Science, and Engineering at City College', 1889),\n",
       " ('Eleanor Roosevelt High School', 1889)]"
      ]
     },
     "execution_count": 36,
     "metadata": {},
     "output_type": "execute_result"
    }
   ],
   "source": [
    "%%sql\n",
    "\n",
    "-- Calculate average_sat\n",
    "SELECT \n",
    "    school_name,\n",
    "    average_reading + average_writing + average_math AS average_sat\n",
    "FROM schools\n",
    "-- Group by school_name\n",
    "GROUP BY school_name\n",
    "-- Sort by average_sat in descending order\n",
    "ORDER BY average_sat DESC\n",
    "-- Display the top ten results\n",
    "LIMIT 10;"
   ]
  },
  {
   "cell_type": "markdown",
   "metadata": {
    "dc": {
     "key": "53"
    },
    "deletable": false,
    "editable": false,
    "run_control": {
     "frozen": true
    },
    "tags": [
     "context"
    ]
   },
   "source": [
    "## 8. Ranking boroughs\n",
    "<p>There are four schools with average SAT scores of over 2000! Now let's analyze performance by New York City borough. </p>\n",
    "<p>We will build a query that calculates the number of schools and the average SAT score per borough!</p>"
   ]
  },
  {
   "cell_type": "code",
   "execution_count": 38,
   "metadata": {
    "dc": {
     "key": "53"
    },
    "tags": [
     "sample_code"
    ]
   },
   "outputs": [
    {
     "name": "stdout",
     "output_type": "stream",
     "text": [
      " * sqlite:///createdb.db\n",
      "Done.\n"
     ]
    },
    {
     "data": {
      "text/html": [
       "<table>\n",
       "    <tr>\n",
       "        <th>borough</th>\n",
       "        <th>num_schools</th>\n",
       "        <th>average_borough_sat</th>\n",
       "    </tr>\n",
       "    <tr>\n",
       "        <td>Staten Island</td>\n",
       "        <td>10</td>\n",
       "        <td>1439</td>\n",
       "    </tr>\n",
       "    <tr>\n",
       "        <td>Queens</td>\n",
       "        <td>69</td>\n",
       "        <td>1345</td>\n",
       "    </tr>\n",
       "    <tr>\n",
       "        <td>Manhattan</td>\n",
       "        <td>89</td>\n",
       "        <td>1340</td>\n",
       "    </tr>\n",
       "    <tr>\n",
       "        <td>Brooklyn</td>\n",
       "        <td>109</td>\n",
       "        <td>1230</td>\n",
       "    </tr>\n",
       "    <tr>\n",
       "        <td>Bronx</td>\n",
       "        <td>98</td>\n",
       "        <td>1202</td>\n",
       "    </tr>\n",
       "</table>"
      ],
      "text/plain": [
       "[('Staten Island', 10, 1439),\n",
       " ('Queens', 69, 1345),\n",
       " ('Manhattan', 89, 1340),\n",
       " ('Brooklyn', 109, 1230),\n",
       " ('Bronx', 98, 1202)]"
      ]
     },
     "execution_count": 38,
     "metadata": {},
     "output_type": "execute_result"
    }
   ],
   "source": [
    "%%sql\n",
    "\n",
    "-- Select borough and a count of all schools, aliased as num_schools\n",
    "SELECT \n",
    "    borough,\n",
    "    COUNT(school_name) AS num_schools,\n",
    "-- Calculate the sum of average_math, average_reading, and average_writing, divided by a count of all schools, aliased as average_borough_sat    \n",
    "    (SUM(average_writing) + SUM(average_reading) + SUM(average_math)) / COUNT(school_name) AS average_borough_sat\n",
    "FROM schools    \n",
    "-- Organize results by borough\n",
    "GROUP BY borough\n",
    "-- Display by average_borough_sat in descending order\n",
    "ORDER BY average_borough_sat DESC;"
   ]
  },
  {
   "cell_type": "markdown",
   "metadata": {
    "dc": {
     "key": "60"
    },
    "deletable": false,
    "editable": false,
    "run_control": {
     "frozen": true
    },
    "tags": [
     "context"
    ]
   },
   "source": [
    "## 9. Brooklyn numbers\n",
    "<p>It appears that schools in Staten Island, on average, produce higher scores across all three categories. However, there are only 10 schools in Staten Island, compared to an average of 91 schools in the other four boroughs!</p>\n",
    "<p>For our final query of the database, let's focus on Brooklyn, which has 109 schools. We wish to find the top five schools for math performance.</p>"
   ]
  },
  {
   "cell_type": "code",
   "execution_count": 41,
   "metadata": {
    "dc": {
     "key": "60"
    },
    "tags": [
     "sample_code"
    ]
   },
   "outputs": [
    {
     "name": "stdout",
     "output_type": "stream",
     "text": [
      " * sqlite:///createdb.db\n",
      "Done.\n"
     ]
    },
    {
     "data": {
      "text/html": [
       "<table>\n",
       "    <tr>\n",
       "        <th>school_name</th>\n",
       "        <th>average_math</th>\n",
       "    </tr>\n",
       "    <tr>\n",
       "        <td>Brooklyn Technical High School</td>\n",
       "        <td>682</td>\n",
       "    </tr>\n",
       "    <tr>\n",
       "        <td>Brooklyn Latin School</td>\n",
       "        <td>625</td>\n",
       "    </tr>\n",
       "    <tr>\n",
       "        <td>Leon M. Goldstein High School for the Sciences</td>\n",
       "        <td>563</td>\n",
       "    </tr>\n",
       "    <tr>\n",
       "        <td>Millennium Brooklyn High School</td>\n",
       "        <td>553</td>\n",
       "    </tr>\n",
       "    <tr>\n",
       "        <td>Midwood High School</td>\n",
       "        <td>550</td>\n",
       "    </tr>\n",
       "</table>"
      ],
      "text/plain": [
       "[('Brooklyn Technical High School', 682),\n",
       " ('Brooklyn Latin School', 625),\n",
       " ('Leon M. Goldstein High School for the Sciences', 563),\n",
       " ('Millennium Brooklyn High School', 553),\n",
       " ('Midwood High School', 550)]"
      ]
     },
     "execution_count": 41,
     "metadata": {},
     "output_type": "execute_result"
    }
   ],
   "source": [
    "%%sql\n",
    "\n",
    "-- Select school and average_math\n",
    "SELECT \n",
    "    school_name,\n",
    "    average_math\n",
    "FROM schools    \n",
    "-- Filter for schools in Brooklyn\n",
    "WHERE borough IN ('Brooklyn')\n",
    "-- Aggregate on school_name\n",
    "GROUP BY school_name\n",
    "-- Display results from highest average_math and restrict output to five rows\n",
    "ORDER BY average_math DESC\n",
    "LIMIT 5;"
   ]
  }
 ],
 "metadata": {
  "kernelspec": {
   "display_name": "Python 3 (ipykernel)",
   "language": "python",
   "name": "python3"
  },
  "language_info": {
   "codemirror_mode": {
    "name": "ipython",
    "version": 3
   },
   "file_extension": ".py",
   "mimetype": "text/x-python",
   "name": "python",
   "nbconvert_exporter": "python",
   "pygments_lexer": "ipython3",
   "version": "3.10.7"
  },
  "vscode": {
   "interpreter": {
    "hash": "916dbcbb3f70747c44a77c7bcd40155683ae19c65e1c03b4aa3499c5328201f1"
   }
  }
 },
 "nbformat": 4,
 "nbformat_minor": 2
}
